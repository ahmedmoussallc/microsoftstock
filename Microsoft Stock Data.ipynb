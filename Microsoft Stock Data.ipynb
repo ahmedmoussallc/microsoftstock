{
 "cells": [
  {
   "cell_type": "markdown",
   "id": "e7a1d38b",
   "metadata": {},
   "source": [
    "# Importing the main libraries to work with in this project"
   ]
  },
  {
   "cell_type": "code",
   "execution_count": 1,
   "id": "ec237dbc",
   "metadata": {},
   "outputs": [],
   "source": [
    "import pandas as pd\n",
    "import datetime as dt"
   ]
  },
  {
   "cell_type": "code",
   "execution_count": 2,
   "id": "ac6ef67e",
   "metadata": {},
   "outputs": [],
   "source": [
    "from pandas_datareader import data"
   ]
  },
  {
   "cell_type": "markdown",
   "id": "5886ee78",
   "metadata": {},
   "source": [
    "# Getting Microsoft Stock Prices "
   ]
  },
  {
   "cell_type": "code",
   "execution_count": 3,
   "id": "f42401d7",
   "metadata": {},
   "outputs": [],
   "source": [
    "stocks = data.DataReader(name = \"MSFT\", data_source=\"stooq\", start= \"2020-01-01\", end = \"2022-12-31\")"
   ]
  },
  {
   "cell_type": "markdown",
   "id": "84012313",
   "metadata": {},
   "source": [
    "# Dataframe overview"
   ]
  },
  {
   "cell_type": "code",
   "execution_count": 4,
   "id": "2e269316",
   "metadata": {},
   "outputs": [
    {
     "data": {
      "text/html": [
       "<div>\n",
       "<style scoped>\n",
       "    .dataframe tbody tr th:only-of-type {\n",
       "        vertical-align: middle;\n",
       "    }\n",
       "\n",
       "    .dataframe tbody tr th {\n",
       "        vertical-align: top;\n",
       "    }\n",
       "\n",
       "    .dataframe thead th {\n",
       "        text-align: right;\n",
       "    }\n",
       "</style>\n",
       "<table border=\"1\" class=\"dataframe\">\n",
       "  <thead>\n",
       "    <tr style=\"text-align: right;\">\n",
       "      <th></th>\n",
       "      <th>Open</th>\n",
       "      <th>High</th>\n",
       "      <th>Low</th>\n",
       "      <th>Close</th>\n",
       "      <th>Volume</th>\n",
       "    </tr>\n",
       "    <tr>\n",
       "      <th>Date</th>\n",
       "      <th></th>\n",
       "      <th></th>\n",
       "      <th></th>\n",
       "      <th></th>\n",
       "      <th></th>\n",
       "    </tr>\n",
       "  </thead>\n",
       "  <tbody>\n",
       "    <tr>\n",
       "      <th>2022-12-30</th>\n",
       "      <td>238.21</td>\n",
       "      <td>239.96</td>\n",
       "      <td>236.6600</td>\n",
       "      <td>239.82</td>\n",
       "      <td>21938472.0</td>\n",
       "    </tr>\n",
       "    <tr>\n",
       "      <th>2022-12-29</th>\n",
       "      <td>235.65</td>\n",
       "      <td>241.92</td>\n",
       "      <td>235.6500</td>\n",
       "      <td>241.01</td>\n",
       "      <td>19770693.0</td>\n",
       "    </tr>\n",
       "    <tr>\n",
       "      <th>2022-12-28</th>\n",
       "      <td>236.89</td>\n",
       "      <td>239.72</td>\n",
       "      <td>234.1700</td>\n",
       "      <td>234.53</td>\n",
       "      <td>17457104.0</td>\n",
       "    </tr>\n",
       "    <tr>\n",
       "      <th>2022-12-27</th>\n",
       "      <td>238.70</td>\n",
       "      <td>238.93</td>\n",
       "      <td>235.8300</td>\n",
       "      <td>236.96</td>\n",
       "      <td>16688648.0</td>\n",
       "    </tr>\n",
       "    <tr>\n",
       "      <th>2022-12-23</th>\n",
       "      <td>236.11</td>\n",
       "      <td>238.87</td>\n",
       "      <td>233.9428</td>\n",
       "      <td>238.73</td>\n",
       "      <td>21206982.0</td>\n",
       "    </tr>\n",
       "  </tbody>\n",
       "</table>\n",
       "</div>"
      ],
      "text/plain": [
       "              Open    High       Low   Close      Volume\n",
       "Date                                                    \n",
       "2022-12-30  238.21  239.96  236.6600  239.82  21938472.0\n",
       "2022-12-29  235.65  241.92  235.6500  241.01  19770693.0\n",
       "2022-12-28  236.89  239.72  234.1700  234.53  17457104.0\n",
       "2022-12-27  238.70  238.93  235.8300  236.96  16688648.0\n",
       "2022-12-23  236.11  238.87  233.9428  238.73  21206982.0"
      ]
     },
     "execution_count": 4,
     "metadata": {},
     "output_type": "execute_result"
    }
   ],
   "source": [
    "stocks.head()"
   ]
  },
  {
   "cell_type": "markdown",
   "id": "07dfec9d",
   "metadata": {},
   "source": [
    "# Adding Necessary Date Parameters"
   ]
  },
  {
   "cell_type": "code",
   "execution_count": 5,
   "id": "bc808448",
   "metadata": {},
   "outputs": [],
   "source": [
    "stocks.reset_index(inplace = True)"
   ]
  },
  {
   "cell_type": "code",
   "execution_count": 6,
   "id": "7abf9078",
   "metadata": {},
   "outputs": [],
   "source": [
    "stocks[\"Month Name\"] = stocks[\"Date\"].dt.month_name()"
   ]
  },
  {
   "cell_type": "code",
   "execution_count": 7,
   "id": "74a63e5f",
   "metadata": {},
   "outputs": [],
   "source": [
    "stocks[\"Day Name\"] = stocks[\"Date\"].dt.day_name()"
   ]
  },
  {
   "cell_type": "code",
   "execution_count": 8,
   "id": "449a5fd4",
   "metadata": {},
   "outputs": [],
   "source": [
    "stocks.sort_values(by = \"Date\", inplace = True)"
   ]
  },
  {
   "cell_type": "code",
   "execution_count": 9,
   "id": "1ce1b248",
   "metadata": {},
   "outputs": [
    {
     "name": "stderr",
     "output_type": "stream",
     "text": [
      "C:\\Users\\Hp\\AppData\\Local\\Temp\\ipykernel_3140\\4082194573.py:1: FutureWarning: Series.dt.weekofyear and Series.dt.week have been deprecated. Please use Series.dt.isocalendar().week instead.\n",
      "  stocks[\"Week\"] = stocks[\"Date\"].dt.week\n"
     ]
    }
   ],
   "source": [
    "stocks[\"Week\"] = stocks[\"Date\"].dt.week"
   ]
  },
  {
   "cell_type": "code",
   "execution_count": 10,
   "id": "6a21ddd5",
   "metadata": {},
   "outputs": [],
   "source": [
    "stocks[\"Quarter\"] = stocks[\"Date\"].dt.quarter"
   ]
  },
  {
   "cell_type": "code",
   "execution_count": 11,
   "id": "a34a655a",
   "metadata": {},
   "outputs": [],
   "source": [
    "stocks[\"Day\"] = stocks[\"Date\"].dt.day"
   ]
  },
  {
   "cell_type": "code",
   "execution_count": 12,
   "id": "d18d931e",
   "metadata": {},
   "outputs": [],
   "source": [
    "stocks[\"Month\"] = stocks[\"Date\"].dt.month"
   ]
  },
  {
   "cell_type": "markdown",
   "id": "b7e0c88c",
   "metadata": {},
   "source": [
    "# Exporting to CSV"
   ]
  },
  {
   "cell_type": "code",
   "execution_count": 13,
   "id": "58fb85b4",
   "metadata": {},
   "outputs": [],
   "source": [
    "stocks.to_csv(\"stocks.csv\")"
   ]
  }
 ],
 "metadata": {
  "kernelspec": {
   "display_name": "Python 3 (ipykernel)",
   "language": "python",
   "name": "python3"
  },
  "language_info": {
   "codemirror_mode": {
    "name": "ipython",
    "version": 3
   },
   "file_extension": ".py",
   "mimetype": "text/x-python",
   "name": "python",
   "nbconvert_exporter": "python",
   "pygments_lexer": "ipython3",
   "version": "3.9.13"
  }
 },
 "nbformat": 4,
 "nbformat_minor": 5
}
